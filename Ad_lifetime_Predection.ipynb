{
  "nbformat": 4,
  "nbformat_minor": 0,
  "metadata": {
    "colab": {
      "name": "Ad_lifetime_Predection.ipynb",
      "provenance": []
    },
    "kernelspec": {
      "name": "python3",
      "display_name": "Python 3"
    },
    "language_info": {
      "name": "python"
    }
  },
  "cells": [
    {
      "cell_type": "code",
      "execution_count": null,
      "metadata": {
        "id": "nxS9rjqApfda"
      },
      "outputs": [],
      "source": [
        "# importing the required libraries\n",
        "import pandas as pd\n",
        "import numpy as np\n",
        "import matplotlib.pyplot as plt \n",
        "%matplotlib inline\n",
        "import seaborn as sns\n",
        "from sklearn.model_selection import train_test_split\n",
        "from sklearn.linear_model import LinearRegression\n",
        "from sklearn.ensemble import GradientBoostingRegressor\n",
        "from sklearn.model_selection import cross_val_score\n",
        "from sklearn.metrics import mean_absolute_error\n",
        "import sklearn.metrics as metrics\n",
        "from IPython.display import display, HTML, display_html\n",
        "import datetime\n"
      ]
    },
    {
      "cell_type": "code",
      "source": [
        "from google.colab import drive\n",
        "drive.mount('/content/drive')"
      ],
      "metadata": {
        "colab": {
          "base_uri": "https://localhost:8080/"
        },
        "id": "9sJ_eLbBsVVM",
        "outputId": "ad6e513c-205e-43a9-d12a-b6393b397ed6"
      },
      "execution_count": null,
      "outputs": [
        {
          "output_type": "stream",
          "name": "stdout",
          "text": [
            "Drive already mounted at /content/drive; to attempt to forcibly remount, call drive.mount(\"/content/drive\", force_remount=True).\n"
          ]
        }
      ]
    },
    {
      "cell_type": "code",
      "source": [
        "# Reading the Data \n",
        "data = pd.read_csv (\"/content/drive/MyDrive/ads_inactive.csv\",error_bad_lines=False, sep=';')\n"
      ],
      "metadata": {
        "colab": {
          "base_uri": "https://localhost:8080/"
        },
        "id": "7CEfEVLZqPok",
        "outputId": "dd7b783b-6ca2-4ae3-f95a-b8fb3b5a4f0d"
      },
      "execution_count": null,
      "outputs": [
        {
          "output_type": "stream",
          "name": "stderr",
          "text": [
            "/usr/local/lib/python3.7/dist-packages/IPython/core/interactiveshell.py:2882: FutureWarning: The error_bad_lines argument has been deprecated and will be removed in a future version.\n",
            "\n",
            "\n",
            "  exec(code_obj, self.user_global_ns, self.user_ns)\n",
            "/usr/local/lib/python3.7/dist-packages/IPython/core/interactiveshell.py:2882: DtypeWarning: Columns (12) have mixed types.Specify dtype option on import or set low_memory=False.\n",
            "  exec(code_obj, self.user_global_ns, self.user_ns)\n"
          ]
        }
      ]
    },
    {
      "cell_type": "code",
      "source": [
        "\n",
        "# look at data\n",
        "display(HTML('<b>Head Data</b>'))\n",
        "display(data.head())\n"
      ],
      "metadata": {
        "colab": {
          "base_uri": "https://localhost:8080/",
          "height": 647
        },
        "id": "Y1B3_r0bte3f",
        "outputId": "f70ff2a4-2e17-4fd6-f2d8-f26fd971fdbe"
      },
      "execution_count": null,
      "outputs": [
        {
          "output_type": "display_data",
          "data": {
            "text/plain": [
              "<IPython.core.display.HTML object>"
            ],
            "text/html": [
              "<b>Head Data</b>"
            ]
          },
          "metadata": {}
        },
        {
          "output_type": "display_data",
          "data": {
            "text/plain": [
              "                        _id ad_crawling_date  ad_price  \\\n",
              "0  60980a3f7d3e012193cdbad2          20:07.2     89900   \n",
              "1  60980a3f7d3e012193cdbad3          19:00.0     32990   \n",
              "2  60980a3f7d3e012193cdbad4          56:37.0     27990   \n",
              "3  60980a3f7d3e012193cdbad5          19:00.3     29950   \n",
              "4  60980a3f7d3e012193cdbad6          56:34.3     26500   \n",
              "\n",
              "                  ad_source  \\\n",
              "0  https://www.reezocar.com   \n",
              "1  https://www.reezocar.com   \n",
              "2  https://www.reezocar.com   \n",
              "3  https://www.reezocar.com   \n",
              "4  https://www.reezocar.com   \n",
              "\n",
              "                                            ad_title car_energy  car_km  \\\n",
              "0  volkswagen touareg 3.0 tsi 462 ch hybride rech...    hybride    5000   \n",
              "1  volkswagen touareg 2 3.0 v6 tdi 262 r-line tip...     diesel   77549   \n",
              "2  volkswagen touareg 3.0 v6 tdi 245ch bluemotion...     diesel   86800   \n",
              "3  volkswagen touareg 3.otdi 2o4cv airmatic panor...     diesel   69425   \n",
              "4  volkswagen touareg touareg 3.0 v6 tdi 204 tipt...     diesel   45051   \n",
              "\n",
              "  car_transmission resulted_from   car_brand  ... ad_inactive currency  \\\n",
              "0      automatique         scrap  volkswagen  ...        True      EUR   \n",
              "1      automatique         scrap  volkswagen  ...        True      EUR   \n",
              "2      automatique         scrap  volkswagen  ...        True      EUR   \n",
              "3      automatique         scrap  volkswagen  ...        True      EUR   \n",
              "4         manuelle         scrap  volkswagen  ...        True      EUR   \n",
              "\n",
              "                                cluster_key is_clustered cluster_kp_score  \\\n",
              "0  e2444100d9111a81d91620adfbc4cde976288095         True              999   \n",
              "1  8730c55a177da1daa7b4733936d985ae6dd9f613         True              999   \n",
              "2  8730c55a177da1daa7b4733936d985ae6dd9f613         True              999   \n",
              "3  8730c55a177da1daa7b4733936d985ae6dd9f613         True              999   \n",
              "4  fa923f52149e5227d48a4758649ab1a7a93926a5         True                9   \n",
              "\n",
              "   cluster_kp_scored_at  is_kp_scored country_code saler_type  ad_lifetime  \n",
              "0               48:41.5          True           FR    private           51  \n",
              "1               25:47.9          True           FR    private           12  \n",
              "2               25:47.9          True           FR    private            9  \n",
              "3               25:47.9          True           BE    private           12  \n",
              "4               45:39.9          True           FR    private            9  \n",
              "\n",
              "[5 rows x 26 columns]"
            ],
            "text/html": [
              "\n",
              "  <div id=\"df-3e3c4fbc-7920-4fa2-9490-3774211061e5\">\n",
              "    <div class=\"colab-df-container\">\n",
              "      <div>\n",
              "<style scoped>\n",
              "    .dataframe tbody tr th:only-of-type {\n",
              "        vertical-align: middle;\n",
              "    }\n",
              "\n",
              "    .dataframe tbody tr th {\n",
              "        vertical-align: top;\n",
              "    }\n",
              "\n",
              "    .dataframe thead th {\n",
              "        text-align: right;\n",
              "    }\n",
              "</style>\n",
              "<table border=\"1\" class=\"dataframe\">\n",
              "  <thead>\n",
              "    <tr style=\"text-align: right;\">\n",
              "      <th></th>\n",
              "      <th>_id</th>\n",
              "      <th>ad_crawling_date</th>\n",
              "      <th>ad_price</th>\n",
              "      <th>ad_source</th>\n",
              "      <th>ad_title</th>\n",
              "      <th>car_energy</th>\n",
              "      <th>car_km</th>\n",
              "      <th>car_transmission</th>\n",
              "      <th>resulted_from</th>\n",
              "      <th>car_brand</th>\n",
              "      <th>...</th>\n",
              "      <th>ad_inactive</th>\n",
              "      <th>currency</th>\n",
              "      <th>cluster_key</th>\n",
              "      <th>is_clustered</th>\n",
              "      <th>cluster_kp_score</th>\n",
              "      <th>cluster_kp_scored_at</th>\n",
              "      <th>is_kp_scored</th>\n",
              "      <th>country_code</th>\n",
              "      <th>saler_type</th>\n",
              "      <th>ad_lifetime</th>\n",
              "    </tr>\n",
              "  </thead>\n",
              "  <tbody>\n",
              "    <tr>\n",
              "      <th>0</th>\n",
              "      <td>60980a3f7d3e012193cdbad2</td>\n",
              "      <td>20:07.2</td>\n",
              "      <td>89900</td>\n",
              "      <td>https://www.reezocar.com</td>\n",
              "      <td>volkswagen touareg 3.0 tsi 462 ch hybride rech...</td>\n",
              "      <td>hybride</td>\n",
              "      <td>5000</td>\n",
              "      <td>automatique</td>\n",
              "      <td>scrap</td>\n",
              "      <td>volkswagen</td>\n",
              "      <td>...</td>\n",
              "      <td>True</td>\n",
              "      <td>EUR</td>\n",
              "      <td>e2444100d9111a81d91620adfbc4cde976288095</td>\n",
              "      <td>True</td>\n",
              "      <td>999</td>\n",
              "      <td>48:41.5</td>\n",
              "      <td>True</td>\n",
              "      <td>FR</td>\n",
              "      <td>private</td>\n",
              "      <td>51</td>\n",
              "    </tr>\n",
              "    <tr>\n",
              "      <th>1</th>\n",
              "      <td>60980a3f7d3e012193cdbad3</td>\n",
              "      <td>19:00.0</td>\n",
              "      <td>32990</td>\n",
              "      <td>https://www.reezocar.com</td>\n",
              "      <td>volkswagen touareg 2 3.0 v6 tdi 262 r-line tip...</td>\n",
              "      <td>diesel</td>\n",
              "      <td>77549</td>\n",
              "      <td>automatique</td>\n",
              "      <td>scrap</td>\n",
              "      <td>volkswagen</td>\n",
              "      <td>...</td>\n",
              "      <td>True</td>\n",
              "      <td>EUR</td>\n",
              "      <td>8730c55a177da1daa7b4733936d985ae6dd9f613</td>\n",
              "      <td>True</td>\n",
              "      <td>999</td>\n",
              "      <td>25:47.9</td>\n",
              "      <td>True</td>\n",
              "      <td>FR</td>\n",
              "      <td>private</td>\n",
              "      <td>12</td>\n",
              "    </tr>\n",
              "    <tr>\n",
              "      <th>2</th>\n",
              "      <td>60980a3f7d3e012193cdbad4</td>\n",
              "      <td>56:37.0</td>\n",
              "      <td>27990</td>\n",
              "      <td>https://www.reezocar.com</td>\n",
              "      <td>volkswagen touareg 3.0 v6 tdi 245ch bluemotion...</td>\n",
              "      <td>diesel</td>\n",
              "      <td>86800</td>\n",
              "      <td>automatique</td>\n",
              "      <td>scrap</td>\n",
              "      <td>volkswagen</td>\n",
              "      <td>...</td>\n",
              "      <td>True</td>\n",
              "      <td>EUR</td>\n",
              "      <td>8730c55a177da1daa7b4733936d985ae6dd9f613</td>\n",
              "      <td>True</td>\n",
              "      <td>999</td>\n",
              "      <td>25:47.9</td>\n",
              "      <td>True</td>\n",
              "      <td>FR</td>\n",
              "      <td>private</td>\n",
              "      <td>9</td>\n",
              "    </tr>\n",
              "    <tr>\n",
              "      <th>3</th>\n",
              "      <td>60980a3f7d3e012193cdbad5</td>\n",
              "      <td>19:00.3</td>\n",
              "      <td>29950</td>\n",
              "      <td>https://www.reezocar.com</td>\n",
              "      <td>volkswagen touareg 3.otdi 2o4cv airmatic panor...</td>\n",
              "      <td>diesel</td>\n",
              "      <td>69425</td>\n",
              "      <td>automatique</td>\n",
              "      <td>scrap</td>\n",
              "      <td>volkswagen</td>\n",
              "      <td>...</td>\n",
              "      <td>True</td>\n",
              "      <td>EUR</td>\n",
              "      <td>8730c55a177da1daa7b4733936d985ae6dd9f613</td>\n",
              "      <td>True</td>\n",
              "      <td>999</td>\n",
              "      <td>25:47.9</td>\n",
              "      <td>True</td>\n",
              "      <td>BE</td>\n",
              "      <td>private</td>\n",
              "      <td>12</td>\n",
              "    </tr>\n",
              "    <tr>\n",
              "      <th>4</th>\n",
              "      <td>60980a3f7d3e012193cdbad6</td>\n",
              "      <td>56:34.3</td>\n",
              "      <td>26500</td>\n",
              "      <td>https://www.reezocar.com</td>\n",
              "      <td>volkswagen touareg touareg 3.0 v6 tdi 204 tipt...</td>\n",
              "      <td>diesel</td>\n",
              "      <td>45051</td>\n",
              "      <td>manuelle</td>\n",
              "      <td>scrap</td>\n",
              "      <td>volkswagen</td>\n",
              "      <td>...</td>\n",
              "      <td>True</td>\n",
              "      <td>EUR</td>\n",
              "      <td>fa923f52149e5227d48a4758649ab1a7a93926a5</td>\n",
              "      <td>True</td>\n",
              "      <td>9</td>\n",
              "      <td>45:39.9</td>\n",
              "      <td>True</td>\n",
              "      <td>FR</td>\n",
              "      <td>private</td>\n",
              "      <td>9</td>\n",
              "    </tr>\n",
              "  </tbody>\n",
              "</table>\n",
              "<p>5 rows × 26 columns</p>\n",
              "</div>\n",
              "      <button class=\"colab-df-convert\" onclick=\"convertToInteractive('df-3e3c4fbc-7920-4fa2-9490-3774211061e5')\"\n",
              "              title=\"Convert this dataframe to an interactive table.\"\n",
              "              style=\"display:none;\">\n",
              "        \n",
              "  <svg xmlns=\"http://www.w3.org/2000/svg\" height=\"24px\"viewBox=\"0 0 24 24\"\n",
              "       width=\"24px\">\n",
              "    <path d=\"M0 0h24v24H0V0z\" fill=\"none\"/>\n",
              "    <path d=\"M18.56 5.44l.94 2.06.94-2.06 2.06-.94-2.06-.94-.94-2.06-.94 2.06-2.06.94zm-11 1L8.5 8.5l.94-2.06 2.06-.94-2.06-.94L8.5 2.5l-.94 2.06-2.06.94zm10 10l.94 2.06.94-2.06 2.06-.94-2.06-.94-.94-2.06-.94 2.06-2.06.94z\"/><path d=\"M17.41 7.96l-1.37-1.37c-.4-.4-.92-.59-1.43-.59-.52 0-1.04.2-1.43.59L10.3 9.45l-7.72 7.72c-.78.78-.78 2.05 0 2.83L4 21.41c.39.39.9.59 1.41.59.51 0 1.02-.2 1.41-.59l7.78-7.78 2.81-2.81c.8-.78.8-2.07 0-2.86zM5.41 20L4 18.59l7.72-7.72 1.47 1.35L5.41 20z\"/>\n",
              "  </svg>\n",
              "      </button>\n",
              "      \n",
              "  <style>\n",
              "    .colab-df-container {\n",
              "      display:flex;\n",
              "      flex-wrap:wrap;\n",
              "      gap: 12px;\n",
              "    }\n",
              "\n",
              "    .colab-df-convert {\n",
              "      background-color: #E8F0FE;\n",
              "      border: none;\n",
              "      border-radius: 50%;\n",
              "      cursor: pointer;\n",
              "      display: none;\n",
              "      fill: #1967D2;\n",
              "      height: 32px;\n",
              "      padding: 0 0 0 0;\n",
              "      width: 32px;\n",
              "    }\n",
              "\n",
              "    .colab-df-convert:hover {\n",
              "      background-color: #E2EBFA;\n",
              "      box-shadow: 0px 1px 2px rgba(60, 64, 67, 0.3), 0px 1px 3px 1px rgba(60, 64, 67, 0.15);\n",
              "      fill: #174EA6;\n",
              "    }\n",
              "\n",
              "    [theme=dark] .colab-df-convert {\n",
              "      background-color: #3B4455;\n",
              "      fill: #D2E3FC;\n",
              "    }\n",
              "\n",
              "    [theme=dark] .colab-df-convert:hover {\n",
              "      background-color: #434B5C;\n",
              "      box-shadow: 0px 1px 3px 1px rgba(0, 0, 0, 0.15);\n",
              "      filter: drop-shadow(0px 1px 2px rgba(0, 0, 0, 0.3));\n",
              "      fill: #FFFFFF;\n",
              "    }\n",
              "  </style>\n",
              "\n",
              "      <script>\n",
              "        const buttonEl =\n",
              "          document.querySelector('#df-3e3c4fbc-7920-4fa2-9490-3774211061e5 button.colab-df-convert');\n",
              "        buttonEl.style.display =\n",
              "          google.colab.kernel.accessAllowed ? 'block' : 'none';\n",
              "\n",
              "        async function convertToInteractive(key) {\n",
              "          const element = document.querySelector('#df-3e3c4fbc-7920-4fa2-9490-3774211061e5');\n",
              "          const dataTable =\n",
              "            await google.colab.kernel.invokeFunction('convertToInteractive',\n",
              "                                                     [key], {});\n",
              "          if (!dataTable) return;\n",
              "\n",
              "          const docLinkHtml = 'Like what you see? Visit the ' +\n",
              "            '<a target=\"_blank\" href=https://colab.research.google.com/notebooks/data_table.ipynb>data table notebook</a>'\n",
              "            + ' to learn more about interactive tables.';\n",
              "          element.innerHTML = '';\n",
              "          dataTable['output_type'] = 'display_data';\n",
              "          await google.colab.output.renderOutput(dataTable, element);\n",
              "          const docLink = document.createElement('div');\n",
              "          docLink.innerHTML = docLinkHtml;\n",
              "          element.appendChild(docLink);\n",
              "        }\n",
              "      </script>\n",
              "    </div>\n",
              "  </div>\n",
              "  "
            ]
          },
          "metadata": {}
        }
      ]
    },
    {
      "cell_type": "code",
      "source": [
        "# look a shape of data\n",
        "display(HTML('<b>Dataframe Shape</b>'))\n",
        "display(data.shape)"
      ],
      "metadata": {
        "colab": {
          "base_uri": "https://localhost:8080/",
          "height": 52
        },
        "id": "MWEmxN3SuBi8",
        "outputId": "7933f482-f37e-45ff-9142-0c3fb8126f99"
      },
      "execution_count": null,
      "outputs": [
        {
          "output_type": "display_data",
          "data": {
            "text/plain": [
              "<IPython.core.display.HTML object>"
            ],
            "text/html": [
              "<b>Dataframe Shape</b>"
            ]
          },
          "metadata": {}
        },
        {
          "output_type": "display_data",
          "data": {
            "text/plain": [
              "(100000, 26)"
            ]
          },
          "metadata": {}
        }
      ]
    },
    {
      "cell_type": "code",
      "source": [
        "# look at data types. Ideally look at all rows. \n",
        "display(HTML('<b>Data Types</b>'))\n",
        "display(data.iloc[:,:].dtypes)"
      ],
      "metadata": {
        "colab": {
          "base_uri": "https://localhost:8080/",
          "height": 503
        },
        "id": "z_GwkGgwvxGr",
        "outputId": "fbb2f088-53d3-40e4-9332-51234e21bf2e"
      },
      "execution_count": null,
      "outputs": [
        {
          "output_type": "display_data",
          "data": {
            "text/plain": [
              "<IPython.core.display.HTML object>"
            ],
            "text/html": [
              "<b>Data Types</b>"
            ]
          },
          "metadata": {}
        },
        {
          "output_type": "display_data",
          "data": {
            "text/plain": [
              "_id                     object\n",
              "ad_crawling_date        object\n",
              "ad_price                 int64\n",
              "ad_source               object\n",
              "ad_title                object\n",
              "car_energy              object\n",
              "car_km                   int64\n",
              "car_transmission        object\n",
              "resulted_from           object\n",
              "car_brand               object\n",
              "car_color               object\n",
              "car_model               object\n",
              "car_real_power          object\n",
              "owner_location          object\n",
              "ad_creation_date        object\n",
              "ad_active                 bool\n",
              "ad_inactive               bool\n",
              "currency                object\n",
              "cluster_key             object\n",
              "is_clustered              bool\n",
              "cluster_kp_score         int64\n",
              "cluster_kp_scored_at    object\n",
              "is_kp_scored              bool\n",
              "country_code            object\n",
              "saler_type              object\n",
              "ad_lifetime              int64\n",
              "dtype: object"
            ]
          },
          "metadata": {}
        }
      ]
    },
    {
      "cell_type": "code",
      "source": [
        "# see if any columns have nulls. Ideally look at all rows. \n",
        "display(HTML('<b>Nulls</b>'))\n",
        "display(data.iloc[:,:].isnull().any())"
      ],
      "metadata": {
        "colab": {
          "base_uri": "https://localhost:8080/",
          "height": 503
        },
        "id": "W9N0Umgdv52h",
        "outputId": "35b2ea77-eec8-41e7-8aa3-01275779e35a"
      },
      "execution_count": null,
      "outputs": [
        {
          "output_type": "display_data",
          "data": {
            "text/plain": [
              "<IPython.core.display.HTML object>"
            ],
            "text/html": [
              "<b>Nulls</b>"
            ]
          },
          "metadata": {}
        },
        {
          "output_type": "display_data",
          "data": {
            "text/plain": [
              "_id                     False\n",
              "ad_crawling_date        False\n",
              "ad_price                False\n",
              "ad_source               False\n",
              "ad_title                False\n",
              "car_energy              False\n",
              "car_km                  False\n",
              "car_transmission        False\n",
              "resulted_from           False\n",
              "car_brand               False\n",
              "car_color                True\n",
              "car_model               False\n",
              "car_real_power           True\n",
              "owner_location           True\n",
              "ad_creation_date        False\n",
              "ad_active               False\n",
              "ad_inactive             False\n",
              "currency                False\n",
              "cluster_key             False\n",
              "is_clustered            False\n",
              "cluster_kp_score        False\n",
              "cluster_kp_scored_at     True\n",
              "is_kp_scored            False\n",
              "country_code             True\n",
              "saler_type               True\n",
              "ad_lifetime             False\n",
              "dtype: bool"
            ]
          },
          "metadata": {}
        }
      ]
    },
    {
      "cell_type": "code",
      "source": [
        "# display descriptive statistics\n",
        "display(HTML('<b>Describe</b>'))\n",
        "display(data.describe(percentiles=[0.25,0.5,0.75,0.85,0.95,0.99]))"
      ],
      "metadata": {
        "colab": {
          "base_uri": "https://localhost:8080/",
          "height": 412
        },
        "id": "vSKnOxpZwG5H",
        "outputId": "0c93ba55-3d79-4904-a7cc-b767071079db"
      },
      "execution_count": null,
      "outputs": [
        {
          "output_type": "display_data",
          "data": {
            "text/plain": [
              "<IPython.core.display.HTML object>"
            ],
            "text/html": [
              "<b>Describe</b>"
            ]
          },
          "metadata": {}
        },
        {
          "output_type": "display_data",
          "data": {
            "text/plain": [
              "            ad_price          car_km  cluster_kp_score    ad_lifetime\n",
              "count  100000.000000   100000.000000     100000.000000  100000.000000\n",
              "mean    33880.532420    62028.638650        756.298790      82.066040\n",
              "std     46880.571012    63425.857637        425.877963      69.459266\n",
              "min       137.000000        0.000000          0.000000       9.000000\n",
              "25%     12900.000000    11000.000000        999.000000      28.000000\n",
              "50%     21994.000000    44800.000000        999.000000      60.000000\n",
              "75%     37852.500000    93000.000000        999.000000     154.000000\n",
              "85%     51602.000000   125950.900000        999.000000     185.000000\n",
              "95%     97000.000000   186000.000000        999.000000     204.000000\n",
              "99%    228585.170000   264000.000000        999.000000     215.000000\n",
              "max    999999.000000  1000000.000000       1000.000000     312.000000"
            ],
            "text/html": [
              "\n",
              "  <div id=\"df-6c56bcbb-7067-472f-8579-85abc86b6e5c\">\n",
              "    <div class=\"colab-df-container\">\n",
              "      <div>\n",
              "<style scoped>\n",
              "    .dataframe tbody tr th:only-of-type {\n",
              "        vertical-align: middle;\n",
              "    }\n",
              "\n",
              "    .dataframe tbody tr th {\n",
              "        vertical-align: top;\n",
              "    }\n",
              "\n",
              "    .dataframe thead th {\n",
              "        text-align: right;\n",
              "    }\n",
              "</style>\n",
              "<table border=\"1\" class=\"dataframe\">\n",
              "  <thead>\n",
              "    <tr style=\"text-align: right;\">\n",
              "      <th></th>\n",
              "      <th>ad_price</th>\n",
              "      <th>car_km</th>\n",
              "      <th>cluster_kp_score</th>\n",
              "      <th>ad_lifetime</th>\n",
              "    </tr>\n",
              "  </thead>\n",
              "  <tbody>\n",
              "    <tr>\n",
              "      <th>count</th>\n",
              "      <td>100000.000000</td>\n",
              "      <td>100000.000000</td>\n",
              "      <td>100000.000000</td>\n",
              "      <td>100000.000000</td>\n",
              "    </tr>\n",
              "    <tr>\n",
              "      <th>mean</th>\n",
              "      <td>33880.532420</td>\n",
              "      <td>62028.638650</td>\n",
              "      <td>756.298790</td>\n",
              "      <td>82.066040</td>\n",
              "    </tr>\n",
              "    <tr>\n",
              "      <th>std</th>\n",
              "      <td>46880.571012</td>\n",
              "      <td>63425.857637</td>\n",
              "      <td>425.877963</td>\n",
              "      <td>69.459266</td>\n",
              "    </tr>\n",
              "    <tr>\n",
              "      <th>min</th>\n",
              "      <td>137.000000</td>\n",
              "      <td>0.000000</td>\n",
              "      <td>0.000000</td>\n",
              "      <td>9.000000</td>\n",
              "    </tr>\n",
              "    <tr>\n",
              "      <th>25%</th>\n",
              "      <td>12900.000000</td>\n",
              "      <td>11000.000000</td>\n",
              "      <td>999.000000</td>\n",
              "      <td>28.000000</td>\n",
              "    </tr>\n",
              "    <tr>\n",
              "      <th>50%</th>\n",
              "      <td>21994.000000</td>\n",
              "      <td>44800.000000</td>\n",
              "      <td>999.000000</td>\n",
              "      <td>60.000000</td>\n",
              "    </tr>\n",
              "    <tr>\n",
              "      <th>75%</th>\n",
              "      <td>37852.500000</td>\n",
              "      <td>93000.000000</td>\n",
              "      <td>999.000000</td>\n",
              "      <td>154.000000</td>\n",
              "    </tr>\n",
              "    <tr>\n",
              "      <th>85%</th>\n",
              "      <td>51602.000000</td>\n",
              "      <td>125950.900000</td>\n",
              "      <td>999.000000</td>\n",
              "      <td>185.000000</td>\n",
              "    </tr>\n",
              "    <tr>\n",
              "      <th>95%</th>\n",
              "      <td>97000.000000</td>\n",
              "      <td>186000.000000</td>\n",
              "      <td>999.000000</td>\n",
              "      <td>204.000000</td>\n",
              "    </tr>\n",
              "    <tr>\n",
              "      <th>99%</th>\n",
              "      <td>228585.170000</td>\n",
              "      <td>264000.000000</td>\n",
              "      <td>999.000000</td>\n",
              "      <td>215.000000</td>\n",
              "    </tr>\n",
              "    <tr>\n",
              "      <th>max</th>\n",
              "      <td>999999.000000</td>\n",
              "      <td>1000000.000000</td>\n",
              "      <td>1000.000000</td>\n",
              "      <td>312.000000</td>\n",
              "    </tr>\n",
              "  </tbody>\n",
              "</table>\n",
              "</div>\n",
              "      <button class=\"colab-df-convert\" onclick=\"convertToInteractive('df-6c56bcbb-7067-472f-8579-85abc86b6e5c')\"\n",
              "              title=\"Convert this dataframe to an interactive table.\"\n",
              "              style=\"display:none;\">\n",
              "        \n",
              "  <svg xmlns=\"http://www.w3.org/2000/svg\" height=\"24px\"viewBox=\"0 0 24 24\"\n",
              "       width=\"24px\">\n",
              "    <path d=\"M0 0h24v24H0V0z\" fill=\"none\"/>\n",
              "    <path d=\"M18.56 5.44l.94 2.06.94-2.06 2.06-.94-2.06-.94-.94-2.06-.94 2.06-2.06.94zm-11 1L8.5 8.5l.94-2.06 2.06-.94-2.06-.94L8.5 2.5l-.94 2.06-2.06.94zm10 10l.94 2.06.94-2.06 2.06-.94-2.06-.94-.94-2.06-.94 2.06-2.06.94z\"/><path d=\"M17.41 7.96l-1.37-1.37c-.4-.4-.92-.59-1.43-.59-.52 0-1.04.2-1.43.59L10.3 9.45l-7.72 7.72c-.78.78-.78 2.05 0 2.83L4 21.41c.39.39.9.59 1.41.59.51 0 1.02-.2 1.41-.59l7.78-7.78 2.81-2.81c.8-.78.8-2.07 0-2.86zM5.41 20L4 18.59l7.72-7.72 1.47 1.35L5.41 20z\"/>\n",
              "  </svg>\n",
              "      </button>\n",
              "      \n",
              "  <style>\n",
              "    .colab-df-container {\n",
              "      display:flex;\n",
              "      flex-wrap:wrap;\n",
              "      gap: 12px;\n",
              "    }\n",
              "\n",
              "    .colab-df-convert {\n",
              "      background-color: #E8F0FE;\n",
              "      border: none;\n",
              "      border-radius: 50%;\n",
              "      cursor: pointer;\n",
              "      display: none;\n",
              "      fill: #1967D2;\n",
              "      height: 32px;\n",
              "      padding: 0 0 0 0;\n",
              "      width: 32px;\n",
              "    }\n",
              "\n",
              "    .colab-df-convert:hover {\n",
              "      background-color: #E2EBFA;\n",
              "      box-shadow: 0px 1px 2px rgba(60, 64, 67, 0.3), 0px 1px 3px 1px rgba(60, 64, 67, 0.15);\n",
              "      fill: #174EA6;\n",
              "    }\n",
              "\n",
              "    [theme=dark] .colab-df-convert {\n",
              "      background-color: #3B4455;\n",
              "      fill: #D2E3FC;\n",
              "    }\n",
              "\n",
              "    [theme=dark] .colab-df-convert:hover {\n",
              "      background-color: #434B5C;\n",
              "      box-shadow: 0px 1px 3px 1px rgba(0, 0, 0, 0.15);\n",
              "      filter: drop-shadow(0px 1px 2px rgba(0, 0, 0, 0.3));\n",
              "      fill: #FFFFFF;\n",
              "    }\n",
              "  </style>\n",
              "\n",
              "      <script>\n",
              "        const buttonEl =\n",
              "          document.querySelector('#df-6c56bcbb-7067-472f-8579-85abc86b6e5c button.colab-df-convert');\n",
              "        buttonEl.style.display =\n",
              "          google.colab.kernel.accessAllowed ? 'block' : 'none';\n",
              "\n",
              "        async function convertToInteractive(key) {\n",
              "          const element = document.querySelector('#df-6c56bcbb-7067-472f-8579-85abc86b6e5c');\n",
              "          const dataTable =\n",
              "            await google.colab.kernel.invokeFunction('convertToInteractive',\n",
              "                                                     [key], {});\n",
              "          if (!dataTable) return;\n",
              "\n",
              "          const docLinkHtml = 'Like what you see? Visit the ' +\n",
              "            '<a target=\"_blank\" href=https://colab.research.google.com/notebooks/data_table.ipynb>data table notebook</a>'\n",
              "            + ' to learn more about interactive tables.';\n",
              "          element.innerHTML = '';\n",
              "          dataTable['output_type'] = 'display_data';\n",
              "          await google.colab.output.renderOutput(dataTable, element);\n",
              "          const docLink = document.createElement('div');\n",
              "          docLink.innerHTML = docLinkHtml;\n",
              "          element.appendChild(docLink);\n",
              "        }\n",
              "      </script>\n",
              "    </div>\n",
              "  </div>\n",
              "  "
            ]
          },
          "metadata": {}
        }
      ]
    },
    {
      "cell_type": "code",
      "source": [
        "# display duplicated index. You may check other columns too\n",
        "display(HTML('<b>Duplicated</b>'))\n",
        "data[data.index.duplicated(keep='last')]\n",
        "#df[df.duplicated('column', keep='last')]"
      ],
      "metadata": {
        "colab": {
          "base_uri": "https://localhost:8080/",
          "height": 160
        },
        "id": "JLgF1mHawOAB",
        "outputId": "c83ed354-277e-49e1-99fb-0b1b4d32ca26"
      },
      "execution_count": null,
      "outputs": [
        {
          "output_type": "display_data",
          "data": {
            "text/plain": [
              "<IPython.core.display.HTML object>"
            ],
            "text/html": [
              "<b>Duplicated</b>"
            ]
          },
          "metadata": {}
        },
        {
          "output_type": "execute_result",
          "data": {
            "text/plain": [
              "Empty DataFrame\n",
              "Columns: [_id, ad_crawling_date, ad_price, ad_source, ad_title, car_energy, car_km, car_transmission, resulted_from, car_brand, car_color, car_model, car_real_power, owner_location, ad_creation_date, ad_active, ad_inactive, currency, cluster_key, is_clustered, cluster_kp_score, cluster_kp_scored_at, is_kp_scored, country_code, saler_type, ad_lifetime]\n",
              "Index: []\n",
              "\n",
              "[0 rows x 26 columns]"
            ],
            "text/html": [
              "\n",
              "  <div id=\"df-ae59f885-0d64-4d59-a9e4-c33bf2782af3\">\n",
              "    <div class=\"colab-df-container\">\n",
              "      <div>\n",
              "<style scoped>\n",
              "    .dataframe tbody tr th:only-of-type {\n",
              "        vertical-align: middle;\n",
              "    }\n",
              "\n",
              "    .dataframe tbody tr th {\n",
              "        vertical-align: top;\n",
              "    }\n",
              "\n",
              "    .dataframe thead th {\n",
              "        text-align: right;\n",
              "    }\n",
              "</style>\n",
              "<table border=\"1\" class=\"dataframe\">\n",
              "  <thead>\n",
              "    <tr style=\"text-align: right;\">\n",
              "      <th></th>\n",
              "      <th>_id</th>\n",
              "      <th>ad_crawling_date</th>\n",
              "      <th>ad_price</th>\n",
              "      <th>ad_source</th>\n",
              "      <th>ad_title</th>\n",
              "      <th>car_energy</th>\n",
              "      <th>car_km</th>\n",
              "      <th>car_transmission</th>\n",
              "      <th>resulted_from</th>\n",
              "      <th>car_brand</th>\n",
              "      <th>...</th>\n",
              "      <th>ad_inactive</th>\n",
              "      <th>currency</th>\n",
              "      <th>cluster_key</th>\n",
              "      <th>is_clustered</th>\n",
              "      <th>cluster_kp_score</th>\n",
              "      <th>cluster_kp_scored_at</th>\n",
              "      <th>is_kp_scored</th>\n",
              "      <th>country_code</th>\n",
              "      <th>saler_type</th>\n",
              "      <th>ad_lifetime</th>\n",
              "    </tr>\n",
              "  </thead>\n",
              "  <tbody>\n",
              "  </tbody>\n",
              "</table>\n",
              "<p>0 rows × 26 columns</p>\n",
              "</div>\n",
              "      <button class=\"colab-df-convert\" onclick=\"convertToInteractive('df-ae59f885-0d64-4d59-a9e4-c33bf2782af3')\"\n",
              "              title=\"Convert this dataframe to an interactive table.\"\n",
              "              style=\"display:none;\">\n",
              "        \n",
              "  <svg xmlns=\"http://www.w3.org/2000/svg\" height=\"24px\"viewBox=\"0 0 24 24\"\n",
              "       width=\"24px\">\n",
              "    <path d=\"M0 0h24v24H0V0z\" fill=\"none\"/>\n",
              "    <path d=\"M18.56 5.44l.94 2.06.94-2.06 2.06-.94-2.06-.94-.94-2.06-.94 2.06-2.06.94zm-11 1L8.5 8.5l.94-2.06 2.06-.94-2.06-.94L8.5 2.5l-.94 2.06-2.06.94zm10 10l.94 2.06.94-2.06 2.06-.94-2.06-.94-.94-2.06-.94 2.06-2.06.94z\"/><path d=\"M17.41 7.96l-1.37-1.37c-.4-.4-.92-.59-1.43-.59-.52 0-1.04.2-1.43.59L10.3 9.45l-7.72 7.72c-.78.78-.78 2.05 0 2.83L4 21.41c.39.39.9.59 1.41.59.51 0 1.02-.2 1.41-.59l7.78-7.78 2.81-2.81c.8-.78.8-2.07 0-2.86zM5.41 20L4 18.59l7.72-7.72 1.47 1.35L5.41 20z\"/>\n",
              "  </svg>\n",
              "      </button>\n",
              "      \n",
              "  <style>\n",
              "    .colab-df-container {\n",
              "      display:flex;\n",
              "      flex-wrap:wrap;\n",
              "      gap: 12px;\n",
              "    }\n",
              "\n",
              "    .colab-df-convert {\n",
              "      background-color: #E8F0FE;\n",
              "      border: none;\n",
              "      border-radius: 50%;\n",
              "      cursor: pointer;\n",
              "      display: none;\n",
              "      fill: #1967D2;\n",
              "      height: 32px;\n",
              "      padding: 0 0 0 0;\n",
              "      width: 32px;\n",
              "    }\n",
              "\n",
              "    .colab-df-convert:hover {\n",
              "      background-color: #E2EBFA;\n",
              "      box-shadow: 0px 1px 2px rgba(60, 64, 67, 0.3), 0px 1px 3px 1px rgba(60, 64, 67, 0.15);\n",
              "      fill: #174EA6;\n",
              "    }\n",
              "\n",
              "    [theme=dark] .colab-df-convert {\n",
              "      background-color: #3B4455;\n",
              "      fill: #D2E3FC;\n",
              "    }\n",
              "\n",
              "    [theme=dark] .colab-df-convert:hover {\n",
              "      background-color: #434B5C;\n",
              "      box-shadow: 0px 1px 3px 1px rgba(0, 0, 0, 0.15);\n",
              "      filter: drop-shadow(0px 1px 2px rgba(0, 0, 0, 0.3));\n",
              "      fill: #FFFFFF;\n",
              "    }\n",
              "  </style>\n",
              "\n",
              "      <script>\n",
              "        const buttonEl =\n",
              "          document.querySelector('#df-ae59f885-0d64-4d59-a9e4-c33bf2782af3 button.colab-df-convert');\n",
              "        buttonEl.style.display =\n",
              "          google.colab.kernel.accessAllowed ? 'block' : 'none';\n",
              "\n",
              "        async function convertToInteractive(key) {\n",
              "          const element = document.querySelector('#df-ae59f885-0d64-4d59-a9e4-c33bf2782af3');\n",
              "          const dataTable =\n",
              "            await google.colab.kernel.invokeFunction('convertToInteractive',\n",
              "                                                     [key], {});\n",
              "          if (!dataTable) return;\n",
              "\n",
              "          const docLinkHtml = 'Like what you see? Visit the ' +\n",
              "            '<a target=\"_blank\" href=https://colab.research.google.com/notebooks/data_table.ipynb>data table notebook</a>'\n",
              "            + ' to learn more about interactive tables.';\n",
              "          element.innerHTML = '';\n",
              "          dataTable['output_type'] = 'display_data';\n",
              "          await google.colab.output.renderOutput(dataTable, element);\n",
              "          const docLink = document.createElement('div');\n",
              "          docLink.innerHTML = docLinkHtml;\n",
              "          element.appendChild(docLink);\n",
              "        }\n",
              "      </script>\n",
              "    </div>\n",
              "  </div>\n",
              "  "
            ]
          },
          "metadata": {},
          "execution_count": 127
        }
      ]
    },
    {
      "cell_type": "code",
      "source": [
        "#set correct index\n",
        "data.index"
      ],
      "metadata": {
        "colab": {
          "base_uri": "https://localhost:8080/"
        },
        "id": "V4Zj9KTFwbzP",
        "outputId": "c035ae98-4a28-423a-cac5-524f74350ac6"
      },
      "execution_count": null,
      "outputs": [
        {
          "output_type": "execute_result",
          "data": {
            "text/plain": [
              "RangeIndex(start=0, stop=100000, step=1)"
            ]
          },
          "metadata": {},
          "execution_count": 128
        }
      ]
    },
    {
      "cell_type": "code",
      "source": [
        "data.drop(['_id','ad_crawling_date','car_brand','ad_source','ad_title','car_energy','car_transmission','resulted_from','car_color','car_model', 'owner_location','ad_creation_date','ad_active','ad_inactive','currency','cluster_key','is_clustered','cluster_kp_score','cluster_kp_scored_at','is_kp_scored','country_code','saler_type'] ,axis=1, inplace=True)\n",
        "\n",
        "#drop_multiple_col(\"\",data)"
      ],
      "metadata": {
        "id": "_e2wgWY5xPpR"
      },
      "execution_count": null,
      "outputs": []
    },
    {
      "cell_type": "code",
      "source": [
        "data.drop('car_real_power',axis=1,inplace=True)"
      ],
      "metadata": {
        "id": "7OforFO4Ks9-"
      },
      "execution_count": null,
      "outputs": []
    },
    {
      "cell_type": "markdown",
      "source": [
        ""
      ],
      "metadata": {
        "id": "Dthje6yK7ALM"
      }
    },
    {
      "cell_type": "code",
      "source": [
        "#check missing data\n",
        "def check_missing_data(data):\n",
        "    # check for any missing data in the df (display in descending order)\n",
        "    return data.isnull().sum().sort_values(ascending=False)\n",
        "\n",
        "check_missing_data(data)"
      ],
      "metadata": {
        "colab": {
          "base_uri": "https://localhost:8080/"
        },
        "id": "a71-IK18ynvJ",
        "outputId": "b745bbe7-6320-4988-f73d-27f342118a30"
      },
      "execution_count": null,
      "outputs": [
        {
          "output_type": "execute_result",
          "data": {
            "text/plain": [
              "ad_price       0\n",
              "car_km         0\n",
              "ad_lifetime    0\n",
              "dtype: int64"
            ]
          },
          "metadata": {},
          "execution_count": 202
        }
      ]
    },
    {
      "cell_type": "code",
      "source": [
        "data.info()"
      ],
      "metadata": {
        "colab": {
          "base_uri": "https://localhost:8080/"
        },
        "id": "iIduTVXh7zpk",
        "outputId": "b58b06fb-ceaa-467f-afe8-67e310b5e397"
      },
      "execution_count": null,
      "outputs": [
        {
          "output_type": "stream",
          "name": "stdout",
          "text": [
            "<class 'pandas.core.frame.DataFrame'>\n",
            "RangeIndex: 100000 entries, 0 to 99999\n",
            "Data columns (total 3 columns):\n",
            " #   Column       Non-Null Count   Dtype\n",
            "---  ------       --------------   -----\n",
            " 0   ad_price     100000 non-null  int64\n",
            " 1   car_km       100000 non-null  int64\n",
            " 2   ad_lifetime  100000 non-null  int64\n",
            "dtypes: int64(3)\n",
            "memory usage: 2.3 MB\n"
          ]
        }
      ]
    },
    {
      "cell_type": "code",
      "source": [
        "X = data.loc[:, data.columns != 'ad_lifetime']\n",
        "X.head()\n"
      ],
      "metadata": {
        "colab": {
          "base_uri": "https://localhost:8080/",
          "height": 206
        },
        "id": "eQAfIIIE-aKl",
        "outputId": "207afd4c-85a6-4b4d-ead7-34705e211bf1"
      },
      "execution_count": null,
      "outputs": [
        {
          "output_type": "execute_result",
          "data": {
            "text/plain": [
              "   ad_price  car_km\n",
              "0     89900    5000\n",
              "1     32990   77549\n",
              "2     27990   86800\n",
              "3     29950   69425\n",
              "4     26500   45051"
            ],
            "text/html": [
              "\n",
              "  <div id=\"df-2a145435-efc4-4083-ad0b-0c7b1390b4ff\">\n",
              "    <div class=\"colab-df-container\">\n",
              "      <div>\n",
              "<style scoped>\n",
              "    .dataframe tbody tr th:only-of-type {\n",
              "        vertical-align: middle;\n",
              "    }\n",
              "\n",
              "    .dataframe tbody tr th {\n",
              "        vertical-align: top;\n",
              "    }\n",
              "\n",
              "    .dataframe thead th {\n",
              "        text-align: right;\n",
              "    }\n",
              "</style>\n",
              "<table border=\"1\" class=\"dataframe\">\n",
              "  <thead>\n",
              "    <tr style=\"text-align: right;\">\n",
              "      <th></th>\n",
              "      <th>ad_price</th>\n",
              "      <th>car_km</th>\n",
              "    </tr>\n",
              "  </thead>\n",
              "  <tbody>\n",
              "    <tr>\n",
              "      <th>0</th>\n",
              "      <td>89900</td>\n",
              "      <td>5000</td>\n",
              "    </tr>\n",
              "    <tr>\n",
              "      <th>1</th>\n",
              "      <td>32990</td>\n",
              "      <td>77549</td>\n",
              "    </tr>\n",
              "    <tr>\n",
              "      <th>2</th>\n",
              "      <td>27990</td>\n",
              "      <td>86800</td>\n",
              "    </tr>\n",
              "    <tr>\n",
              "      <th>3</th>\n",
              "      <td>29950</td>\n",
              "      <td>69425</td>\n",
              "    </tr>\n",
              "    <tr>\n",
              "      <th>4</th>\n",
              "      <td>26500</td>\n",
              "      <td>45051</td>\n",
              "    </tr>\n",
              "  </tbody>\n",
              "</table>\n",
              "</div>\n",
              "      <button class=\"colab-df-convert\" onclick=\"convertToInteractive('df-2a145435-efc4-4083-ad0b-0c7b1390b4ff')\"\n",
              "              title=\"Convert this dataframe to an interactive table.\"\n",
              "              style=\"display:none;\">\n",
              "        \n",
              "  <svg xmlns=\"http://www.w3.org/2000/svg\" height=\"24px\"viewBox=\"0 0 24 24\"\n",
              "       width=\"24px\">\n",
              "    <path d=\"M0 0h24v24H0V0z\" fill=\"none\"/>\n",
              "    <path d=\"M18.56 5.44l.94 2.06.94-2.06 2.06-.94-2.06-.94-.94-2.06-.94 2.06-2.06.94zm-11 1L8.5 8.5l.94-2.06 2.06-.94-2.06-.94L8.5 2.5l-.94 2.06-2.06.94zm10 10l.94 2.06.94-2.06 2.06-.94-2.06-.94-.94-2.06-.94 2.06-2.06.94z\"/><path d=\"M17.41 7.96l-1.37-1.37c-.4-.4-.92-.59-1.43-.59-.52 0-1.04.2-1.43.59L10.3 9.45l-7.72 7.72c-.78.78-.78 2.05 0 2.83L4 21.41c.39.39.9.59 1.41.59.51 0 1.02-.2 1.41-.59l7.78-7.78 2.81-2.81c.8-.78.8-2.07 0-2.86zM5.41 20L4 18.59l7.72-7.72 1.47 1.35L5.41 20z\"/>\n",
              "  </svg>\n",
              "      </button>\n",
              "      \n",
              "  <style>\n",
              "    .colab-df-container {\n",
              "      display:flex;\n",
              "      flex-wrap:wrap;\n",
              "      gap: 12px;\n",
              "    }\n",
              "\n",
              "    .colab-df-convert {\n",
              "      background-color: #E8F0FE;\n",
              "      border: none;\n",
              "      border-radius: 50%;\n",
              "      cursor: pointer;\n",
              "      display: none;\n",
              "      fill: #1967D2;\n",
              "      height: 32px;\n",
              "      padding: 0 0 0 0;\n",
              "      width: 32px;\n",
              "    }\n",
              "\n",
              "    .colab-df-convert:hover {\n",
              "      background-color: #E2EBFA;\n",
              "      box-shadow: 0px 1px 2px rgba(60, 64, 67, 0.3), 0px 1px 3px 1px rgba(60, 64, 67, 0.15);\n",
              "      fill: #174EA6;\n",
              "    }\n",
              "\n",
              "    [theme=dark] .colab-df-convert {\n",
              "      background-color: #3B4455;\n",
              "      fill: #D2E3FC;\n",
              "    }\n",
              "\n",
              "    [theme=dark] .colab-df-convert:hover {\n",
              "      background-color: #434B5C;\n",
              "      box-shadow: 0px 1px 3px 1px rgba(0, 0, 0, 0.15);\n",
              "      filter: drop-shadow(0px 1px 2px rgba(0, 0, 0, 0.3));\n",
              "      fill: #FFFFFF;\n",
              "    }\n",
              "  </style>\n",
              "\n",
              "      <script>\n",
              "        const buttonEl =\n",
              "          document.querySelector('#df-2a145435-efc4-4083-ad0b-0c7b1390b4ff button.colab-df-convert');\n",
              "        buttonEl.style.display =\n",
              "          google.colab.kernel.accessAllowed ? 'block' : 'none';\n",
              "\n",
              "        async function convertToInteractive(key) {\n",
              "          const element = document.querySelector('#df-2a145435-efc4-4083-ad0b-0c7b1390b4ff');\n",
              "          const dataTable =\n",
              "            await google.colab.kernel.invokeFunction('convertToInteractive',\n",
              "                                                     [key], {});\n",
              "          if (!dataTable) return;\n",
              "\n",
              "          const docLinkHtml = 'Like what you see? Visit the ' +\n",
              "            '<a target=\"_blank\" href=https://colab.research.google.com/notebooks/data_table.ipynb>data table notebook</a>'\n",
              "            + ' to learn more about interactive tables.';\n",
              "          element.innerHTML = '';\n",
              "          dataTable['output_type'] = 'display_data';\n",
              "          await google.colab.output.renderOutput(dataTable, element);\n",
              "          const docLink = document.createElement('div');\n",
              "          docLink.innerHTML = docLinkHtml;\n",
              "          element.appendChild(docLink);\n",
              "        }\n",
              "      </script>\n",
              "    </div>\n",
              "  </div>\n",
              "  "
            ]
          },
          "metadata": {},
          "execution_count": 204
        }
      ]
    },
    {
      "cell_type": "code",
      "source": [
        "\n",
        "y= data['ad_lifetime'].values\n",
        "#print(X)\n",
        "y"
      ],
      "metadata": {
        "colab": {
          "base_uri": "https://localhost:8080/"
        },
        "id": "BEA3nnxY-cyA",
        "outputId": "c4c30e76-40c9-4840-f514-17fa2b058139"
      },
      "execution_count": null,
      "outputs": [
        {
          "output_type": "execute_result",
          "data": {
            "text/plain": [
              "array([51, 12,  9, ..., 67, 35, 21])"
            ]
          },
          "metadata": {},
          "execution_count": 205
        }
      ]
    },
    {
      "cell_type": "code",
      "source": [
        "print(X.shape)\n",
        "print(y.shape)\n",
        "\n",
        "if X.shape[0] != y.shape[0]:\n",
        "  print(\"X and y rows are mismatched, check dataset again\")"
      ],
      "metadata": {
        "colab": {
          "base_uri": "https://localhost:8080/"
        },
        "id": "aHfMgor1_I5u",
        "outputId": "b1ed6af7-6551-4d88-e052-f731470bcec2"
      },
      "execution_count": null,
      "outputs": [
        {
          "output_type": "stream",
          "name": "stdout",
          "text": [
            "(100000, 2)\n",
            "(100000,)\n"
          ]
        }
      ]
    },
    {
      "cell_type": "code",
      "source": [
        "X_train, X_test, Y_train, Y_test = train_test_split(X, y, test_size=0.2, random_state=0) "
      ],
      "metadata": {
        "id": "y90Rax2nEVv3"
      },
      "execution_count": null,
      "outputs": []
    },
    {
      "cell_type": "code",
      "source": [
        "regressor = LinearRegression()  \n",
        "regressor.fit(X_train, Y_train) \n",
        "\n",
        "print(\"Training complete.\")"
      ],
      "metadata": {
        "colab": {
          "base_uri": "https://localhost:8080/"
        },
        "id": "kCEpPkJV_cqc",
        "outputId": "dbf86177-47f3-44c2-dcef-ef4316242b4a"
      },
      "execution_count": null,
      "outputs": [
        {
          "output_type": "stream",
          "name": "stdout",
          "text": [
            "Training complete.\n"
          ]
        }
      ]
    },
    {
      "cell_type": "code",
      "source": [
        "print(Y_test) # Testing data - In Hours\n",
        "Y_pred = regressor.predict(X_test) # Predicting the ad_lifetime\n",
        "print(Y_pred)"
      ],
      "metadata": {
        "colab": {
          "base_uri": "https://localhost:8080/"
        },
        "id": "IQp5yHOD_e7F",
        "outputId": "8e2cd39a-e7c9-4290-b5ad-122d8605c4b4"
      },
      "execution_count": null,
      "outputs": [
        {
          "output_type": "stream",
          "name": "stdout",
          "text": [
            "[ 35   9 184 ...   9  98 154]\n",
            "[78.98943625 73.41892072 76.42378202 ... 73.71798159 82.00311595\n",
            " 85.55363467]\n"
          ]
        }
      ]
    },
    {
      "cell_type": "code",
      "source": [
        "# Comparing Actual vs Predicted\n",
        "data= pd.DataFrame({'Actual': Y_test, 'Predicted': Y_pred})  \n",
        "data"
      ],
      "metadata": {
        "colab": {
          "base_uri": "https://localhost:8080/",
          "height": 424
        },
        "id": "RVN-WJbb_q84",
        "outputId": "db153d9d-7f04-4d9f-d1b5-615a7eeca3e6"
      },
      "execution_count": null,
      "outputs": [
        {
          "output_type": "execute_result",
          "data": {
            "text/plain": [
              "       Actual  Predicted\n",
              "0          35  78.989436\n",
              "1           9  73.418921\n",
              "2         184  76.423782\n",
              "3          27  81.014816\n",
              "4          97  74.428946\n",
              "...       ...        ...\n",
              "19995     184  76.001933\n",
              "19996      80  77.387914\n",
              "19997       9  73.717982\n",
              "19998      98  82.003116\n",
              "19999     154  85.553635\n",
              "\n",
              "[20000 rows x 2 columns]"
            ],
            "text/html": [
              "\n",
              "  <div id=\"df-6b2e8cb8-242a-4b45-a7df-01e1519a0f21\">\n",
              "    <div class=\"colab-df-container\">\n",
              "      <div>\n",
              "<style scoped>\n",
              "    .dataframe tbody tr th:only-of-type {\n",
              "        vertical-align: middle;\n",
              "    }\n",
              "\n",
              "    .dataframe tbody tr th {\n",
              "        vertical-align: top;\n",
              "    }\n",
              "\n",
              "    .dataframe thead th {\n",
              "        text-align: right;\n",
              "    }\n",
              "</style>\n",
              "<table border=\"1\" class=\"dataframe\">\n",
              "  <thead>\n",
              "    <tr style=\"text-align: right;\">\n",
              "      <th></th>\n",
              "      <th>Actual</th>\n",
              "      <th>Predicted</th>\n",
              "    </tr>\n",
              "  </thead>\n",
              "  <tbody>\n",
              "    <tr>\n",
              "      <th>0</th>\n",
              "      <td>35</td>\n",
              "      <td>78.989436</td>\n",
              "    </tr>\n",
              "    <tr>\n",
              "      <th>1</th>\n",
              "      <td>9</td>\n",
              "      <td>73.418921</td>\n",
              "    </tr>\n",
              "    <tr>\n",
              "      <th>2</th>\n",
              "      <td>184</td>\n",
              "      <td>76.423782</td>\n",
              "    </tr>\n",
              "    <tr>\n",
              "      <th>3</th>\n",
              "      <td>27</td>\n",
              "      <td>81.014816</td>\n",
              "    </tr>\n",
              "    <tr>\n",
              "      <th>4</th>\n",
              "      <td>97</td>\n",
              "      <td>74.428946</td>\n",
              "    </tr>\n",
              "    <tr>\n",
              "      <th>...</th>\n",
              "      <td>...</td>\n",
              "      <td>...</td>\n",
              "    </tr>\n",
              "    <tr>\n",
              "      <th>19995</th>\n",
              "      <td>184</td>\n",
              "      <td>76.001933</td>\n",
              "    </tr>\n",
              "    <tr>\n",
              "      <th>19996</th>\n",
              "      <td>80</td>\n",
              "      <td>77.387914</td>\n",
              "    </tr>\n",
              "    <tr>\n",
              "      <th>19997</th>\n",
              "      <td>9</td>\n",
              "      <td>73.717982</td>\n",
              "    </tr>\n",
              "    <tr>\n",
              "      <th>19998</th>\n",
              "      <td>98</td>\n",
              "      <td>82.003116</td>\n",
              "    </tr>\n",
              "    <tr>\n",
              "      <th>19999</th>\n",
              "      <td>154</td>\n",
              "      <td>85.553635</td>\n",
              "    </tr>\n",
              "  </tbody>\n",
              "</table>\n",
              "<p>20000 rows × 2 columns</p>\n",
              "</div>\n",
              "      <button class=\"colab-df-convert\" onclick=\"convertToInteractive('df-6b2e8cb8-242a-4b45-a7df-01e1519a0f21')\"\n",
              "              title=\"Convert this dataframe to an interactive table.\"\n",
              "              style=\"display:none;\">\n",
              "        \n",
              "  <svg xmlns=\"http://www.w3.org/2000/svg\" height=\"24px\"viewBox=\"0 0 24 24\"\n",
              "       width=\"24px\">\n",
              "    <path d=\"M0 0h24v24H0V0z\" fill=\"none\"/>\n",
              "    <path d=\"M18.56 5.44l.94 2.06.94-2.06 2.06-.94-2.06-.94-.94-2.06-.94 2.06-2.06.94zm-11 1L8.5 8.5l.94-2.06 2.06-.94-2.06-.94L8.5 2.5l-.94 2.06-2.06.94zm10 10l.94 2.06.94-2.06 2.06-.94-2.06-.94-.94-2.06-.94 2.06-2.06.94z\"/><path d=\"M17.41 7.96l-1.37-1.37c-.4-.4-.92-.59-1.43-.59-.52 0-1.04.2-1.43.59L10.3 9.45l-7.72 7.72c-.78.78-.78 2.05 0 2.83L4 21.41c.39.39.9.59 1.41.59.51 0 1.02-.2 1.41-.59l7.78-7.78 2.81-2.81c.8-.78.8-2.07 0-2.86zM5.41 20L4 18.59l7.72-7.72 1.47 1.35L5.41 20z\"/>\n",
              "  </svg>\n",
              "      </button>\n",
              "      \n",
              "  <style>\n",
              "    .colab-df-container {\n",
              "      display:flex;\n",
              "      flex-wrap:wrap;\n",
              "      gap: 12px;\n",
              "    }\n",
              "\n",
              "    .colab-df-convert {\n",
              "      background-color: #E8F0FE;\n",
              "      border: none;\n",
              "      border-radius: 50%;\n",
              "      cursor: pointer;\n",
              "      display: none;\n",
              "      fill: #1967D2;\n",
              "      height: 32px;\n",
              "      padding: 0 0 0 0;\n",
              "      width: 32px;\n",
              "    }\n",
              "\n",
              "    .colab-df-convert:hover {\n",
              "      background-color: #E2EBFA;\n",
              "      box-shadow: 0px 1px 2px rgba(60, 64, 67, 0.3), 0px 1px 3px 1px rgba(60, 64, 67, 0.15);\n",
              "      fill: #174EA6;\n",
              "    }\n",
              "\n",
              "    [theme=dark] .colab-df-convert {\n",
              "      background-color: #3B4455;\n",
              "      fill: #D2E3FC;\n",
              "    }\n",
              "\n",
              "    [theme=dark] .colab-df-convert:hover {\n",
              "      background-color: #434B5C;\n",
              "      box-shadow: 0px 1px 3px 1px rgba(0, 0, 0, 0.15);\n",
              "      filter: drop-shadow(0px 1px 2px rgba(0, 0, 0, 0.3));\n",
              "      fill: #FFFFFF;\n",
              "    }\n",
              "  </style>\n",
              "\n",
              "      <script>\n",
              "        const buttonEl =\n",
              "          document.querySelector('#df-6b2e8cb8-242a-4b45-a7df-01e1519a0f21 button.colab-df-convert');\n",
              "        buttonEl.style.display =\n",
              "          google.colab.kernel.accessAllowed ? 'block' : 'none';\n",
              "\n",
              "        async function convertToInteractive(key) {\n",
              "          const element = document.querySelector('#df-6b2e8cb8-242a-4b45-a7df-01e1519a0f21');\n",
              "          const dataTable =\n",
              "            await google.colab.kernel.invokeFunction('convertToInteractive',\n",
              "                                                     [key], {});\n",
              "          if (!dataTable) return;\n",
              "\n",
              "          const docLinkHtml = 'Like what you see? Visit the ' +\n",
              "            '<a target=\"_blank\" href=https://colab.research.google.com/notebooks/data_table.ipynb>data table notebook</a>'\n",
              "            + ' to learn more about interactive tables.';\n",
              "          element.innerHTML = '';\n",
              "          dataTable['output_type'] = 'display_data';\n",
              "          await google.colab.output.renderOutput(dataTable, element);\n",
              "          const docLink = document.createElement('div');\n",
              "          docLink.innerHTML = docLinkHtml;\n",
              "          element.appendChild(docLink);\n",
              "        }\n",
              "      </script>\n",
              "    </div>\n",
              "  </div>\n",
              "  "
            ]
          },
          "metadata": {},
          "execution_count": 212
        }
      ]
    },
    {
      "cell_type": "code",
      "source": [
        "\n",
        "print('Mean Absolute Error:', \n",
        "      metrics.mean_absolute_error(Y_test, Y_pred)) "
      ],
      "metadata": {
        "colab": {
          "base_uri": "https://localhost:8080/"
        },
        "id": "Oalm6Ujv_xRA",
        "outputId": "2ab0ac82-2462-422a-cec3-636e3b36b8f2"
      },
      "execution_count": null,
      "outputs": [
        {
          "output_type": "stream",
          "name": "stdout",
          "text": [
            "Mean Absolute Error: 57.995303080893656\n"
          ]
        }
      ]
    },
    {
      "cell_type": "code",
      "source": [
        ""
      ],
      "metadata": {
        "id": "ZWOfEi5yL4Zd"
      },
      "execution_count": null,
      "outputs": []
    }
  ]
}